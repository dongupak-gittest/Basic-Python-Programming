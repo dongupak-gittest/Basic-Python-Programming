{
 "cells": [
  {
   "cell_type": "code",
   "execution_count": 1,
   "metadata": {},
   "outputs": [
    {
     "name": "stdout",
     "output_type": "stream",
     "text": [
      "안녕! 나는 세잎클로버 야. 나는 잎이 3 개 있어.\n",
      "안녕! 나는 네잎클로버 야. 나는 잎이 4 개 있어.\n"
     ]
    }
   ],
   "source": [
    "identity = '세잎클로버'\n",
    "number_of_leafs = 3\n",
    "\n",
    "print('안녕! 나는', identity , '야. 나는 잎이', number_of_leafs, '개 있어.')\n",
    "\n",
    "identity = '네잎클로버'\n",
    "number_of_leafs = 4\n",
    "\n",
    "print('안녕! 나는', identity , '야. 나는 잎이', number_of_leafs, '개 있어.')\n",
    "\n"
   ]
  },
  {
   "cell_type": "code",
   "execution_count": 3,
   "metadata": {},
   "outputs": [
    {
     "name": "stdout",
     "output_type": "stream",
     "text": [
      "주석은\n",
      "실행되지 않습니다.\n"
     ]
    }
   ],
   "source": [
    "# 파이썬의 주석문에 대해 알아보는 예제입니다\n",
    "print(\"주석은\")\n",
    "# print(\"이 프린트 문을 주석으로 처리하세요\")\n",
    "print(\"실행되지 않습니다.\")\n"
   ]
  },
  {
   "cell_type": "code",
   "execution_count": null,
   "metadata": {},
   "outputs": [],
   "source": []
  }
 ],
 "metadata": {
  "kernelspec": {
   "display_name": "Python 3",
   "language": "python",
   "name": "python3"
  },
  "language_info": {
   "codemirror_mode": {
    "name": "ipython",
    "version": 3
   },
   "file_extension": ".py",
   "mimetype": "text/x-python",
   "name": "python",
   "nbconvert_exporter": "python",
   "pygments_lexer": "ipython3",
   "version": "3.6.1"
  }
 },
 "nbformat": 4,
 "nbformat_minor": 2
}
